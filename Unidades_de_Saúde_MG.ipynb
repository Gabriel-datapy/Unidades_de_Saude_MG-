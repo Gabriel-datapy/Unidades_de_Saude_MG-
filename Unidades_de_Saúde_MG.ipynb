{
  "nbformat": 4,
  "nbformat_minor": 0,
  "metadata": {
    "colab": {
      "name": "Unidades de Saúde - MG.ipynb",
      "provenance": [],
      "authorship_tag": "ABX9TyOZVBaK6k+PPUh0qAbFJlcU",
      "include_colab_link": true
    },
    "kernelspec": {
      "name": "python3",
      "display_name": "Python 3"
    }
  },
  "cells": [
    {
      "cell_type": "markdown",
      "metadata": {
        "id": "view-in-github",
        "colab_type": "text"
      },
      "source": [
        "<a href=\"https://colab.research.google.com/github/Gabriel-datapy/Unidades_de_Saude_MG-/blob/master/Unidades_de_Sa%C3%BAde_MG.ipynb\" target=\"_parent\"><img src=\"https://colab.research.google.com/assets/colab-badge.svg\" alt=\"Open In Colab\"/></a>"
      ]
    },
    {
      "cell_type": "code",
      "metadata": {
        "id": "8AH08hnRAaQh",
        "colab_type": "code",
        "colab": {
          "base_uri": "https://localhost:8080/",
          "height": 460
        },
        "outputId": "16e06b43-0c2e-4287-e7c9-1d271eda1c54"
      },
      "source": [
        "import pandas as pd\n",
        "import seaborn as sns\n",
        "import folium\n",
        "\n",
        "df = pd.read_csv('https://raw.githubusercontent.com/Gabriel-datapy/Unidades_de_Saude_MG-/master/ubs_funcionamentonone.csv.csv')\n",
        "df.head()"
      ],
      "execution_count": 6,
      "outputs": [
        {
          "output_type": "execute_result",
          "data": {
            "text/html": [
              "<div>\n",
              "<style scoped>\n",
              "    .dataframe tbody tr th:only-of-type {\n",
              "        vertical-align: middle;\n",
              "    }\n",
              "\n",
              "    .dataframe tbody tr th {\n",
              "        vertical-align: top;\n",
              "    }\n",
              "\n",
              "    .dataframe thead th {\n",
              "        text-align: right;\n",
              "    }\n",
              "</style>\n",
              "<table border=\"1\" class=\"dataframe\">\n",
              "  <thead>\n",
              "    <tr style=\"text-align: right;\">\n",
              "      <th></th>\n",
              "      <th>gid</th>\n",
              "      <th>co_cnes</th>\n",
              "      <th>lat</th>\n",
              "      <th>long</th>\n",
              "      <th>no_fantasia</th>\n",
              "      <th>no_logradouro</th>\n",
              "      <th>nu_endereco</th>\n",
              "      <th>no_bairro</th>\n",
              "      <th>nu_telefone</th>\n",
              "      <th>co_cep</th>\n",
              "      <th>uf</th>\n",
              "      <th>cidade</th>\n",
              "      <th>ano_ubs_det</th>\n",
              "      <th>mes_ubs_det</th>\n",
              "    </tr>\n",
              "  </thead>\n",
              "  <tbody>\n",
              "    <tr>\n",
              "      <th>0</th>\n",
              "      <td>157</td>\n",
              "      <td>2162008</td>\n",
              "      <td>-21.132047</td>\n",
              "      <td>-42.361075</td>\n",
              "      <td>CENTRO DE SAUDE SANTA TEREZINHA</td>\n",
              "      <td>RUA VISCONDE DO RIO BRANCO</td>\n",
              "      <td>S/N</td>\n",
              "      <td>STA TEREZINHA</td>\n",
              "      <td>(32)37291227</td>\n",
              "      <td>36889266.0</td>\n",
              "      <td>MG</td>\n",
              "      <td>Muriaé</td>\n",
              "      <td>2016</td>\n",
              "      <td>5</td>\n",
              "    </tr>\n",
              "    <tr>\n",
              "      <th>1</th>\n",
              "      <td>197</td>\n",
              "      <td>2558335</td>\n",
              "      <td>-22.538527</td>\n",
              "      <td>-54.451268</td>\n",
              "      <td>UNIDADE SAUDE DA FAMILIA RURAL VILA RICA</td>\n",
              "      <td>AVENIDA JOSE AMANCIO</td>\n",
              "      <td>S/N</td>\n",
              "      <td>VILA RICA</td>\n",
              "      <td>67 34681016</td>\n",
              "      <td>79714000.0</td>\n",
              "      <td>MS</td>\n",
              "      <td>Vicentina</td>\n",
              "      <td>2016</td>\n",
              "      <td>5</td>\n",
              "    </tr>\n",
              "    <tr>\n",
              "      <th>2</th>\n",
              "      <td>107</td>\n",
              "      <td>3502082</td>\n",
              "      <td>-13.687323</td>\n",
              "      <td>-39.474864</td>\n",
              "      <td>UNIDADE DE SAUDE DA FAMILIA DO ALIANCA</td>\n",
              "      <td>AV BEIRA RIO</td>\n",
              "      <td>S/N</td>\n",
              "      <td>ALIANCA</td>\n",
              "      <td>(73)3278-2193</td>\n",
              "      <td>45460000.0</td>\n",
              "      <td>BA</td>\n",
              "      <td>Wenceslau Guimarães</td>\n",
              "      <td>2016</td>\n",
              "      <td>5</td>\n",
              "    </tr>\n",
              "    <tr>\n",
              "      <th>3</th>\n",
              "      <td>11</td>\n",
              "      <td>2274256</td>\n",
              "      <td>-22.933263</td>\n",
              "      <td>-42.411625</td>\n",
              "      <td>PSF VILATUR</td>\n",
              "      <td>RUA PRAIA PONTA DE ITAPAJE</td>\n",
              "      <td>S/N</td>\n",
              "      <td>VILATUR</td>\n",
              "      <td>NaN</td>\n",
              "      <td>28992075.0</td>\n",
              "      <td>RJ</td>\n",
              "      <td>Saquarema</td>\n",
              "      <td>2016</td>\n",
              "      <td>5</td>\n",
              "    </tr>\n",
              "    <tr>\n",
              "      <th>4</th>\n",
              "      <td>207</td>\n",
              "      <td>6911218</td>\n",
              "      <td>-8.360864</td>\n",
              "      <td>-40.358877</td>\n",
              "      <td>USF DE VILA SAO FRANCISCO</td>\n",
              "      <td>VILA SAO FRANCISCO</td>\n",
              "      <td>S/N</td>\n",
              "      <td>ZONA RURAL</td>\n",
              "      <td>NaN</td>\n",
              "      <td>56215000.0</td>\n",
              "      <td>PE</td>\n",
              "      <td>Santa Cruz</td>\n",
              "      <td>2016</td>\n",
              "      <td>5</td>\n",
              "    </tr>\n",
              "  </tbody>\n",
              "</table>\n",
              "</div>"
            ],
            "text/plain": [
              "   gid  co_cnes        lat  ...               cidade ano_ubs_det mes_ubs_det\n",
              "0  157  2162008 -21.132047  ...               Muriaé        2016           5\n",
              "1  197  2558335 -22.538527  ...            Vicentina        2016           5\n",
              "2  107  3502082 -13.687323  ...  Wenceslau Guimarães        2016           5\n",
              "3   11  2274256 -22.933263  ...            Saquarema        2016           5\n",
              "4  207  6911218  -8.360864  ...           Santa Cruz        2016           5\n",
              "\n",
              "[5 rows x 14 columns]"
            ]
          },
          "metadata": {
            "tags": []
          },
          "execution_count": 6
        }
      ]
    },
    {
      "cell_type": "code",
      "metadata": {
        "id": "5WpkqyWsAxY5",
        "colab_type": "code",
        "colab": {}
      },
      "source": [
        "df.columns = "
      ],
      "execution_count": 0,
      "outputs": []
    }
  ]
}